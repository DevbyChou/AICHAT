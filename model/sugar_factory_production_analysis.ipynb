{
 "cells": [
  {
   "cell_type": "code",
   "execution_count": 1,
   "id": "04229c97",
   "metadata": {},
   "outputs": [],
   "source": [
    "import pandas as pd\n",
    "\n",
    "# Load the data from the uploaded files\n",
    "file_path_daily_production = 'data\\daily_sugar_production.csv'\n",
    "file_path_factory_logistics = 'data\\sugar_factory_logistics.csv'\n",
    "\n",
    "# Read the data into pandas dataframes\n",
    "df_daily_production = pd.read_csv(file_path_daily_production)\n",
    "df_factory_logistics = pd.read_csv(file_path_factory_logistics)\n",
    "    "
   ]
  },
  {
   "cell_type": "code",
   "execution_count": 2,
   "id": "7959f80a",
   "metadata": {},
   "outputs": [
    {
     "data": {
      "text/plain": [
       "{'A': {'Produced So Far (Tons)': 32,\n",
       "  'Yearly Target (Tons)': 10000,\n",
       "  'Will Meet Target': False,\n",
       "  'Required Daily Increase (Tons)': 28.72622478386167},\n",
       " 'B': {'Produced So Far (Tons)': 42,\n",
       "  'Yearly Target (Tons)': 12000,\n",
       "  'Will Meet Target': False,\n",
       "  'Required Daily Increase (Tons)': 34.461095100864554},\n",
       " 'C': {'Produced So Far (Tons)': 18,\n",
       "  'Yearly Target (Tons)': 8000,\n",
       "  'Will Meet Target': False,\n",
       "  'Required Daily Increase (Tons)': 23.002881844380404},\n",
       " 'D': {'Produced So Far (Tons)': 23,\n",
       "  'Yearly Target (Tons)': 9000,\n",
       "  'Will Meet Target': False,\n",
       "  'Required Daily Increase (Tons)': 25.870317002881844}}"
      ]
     },
     "execution_count": 2,
     "metadata": {},
     "output_type": "execute_result"
    }
   ],
   "source": [
    "\n",
    "from datetime import datetime\n",
    "\n",
    "# Convert the 'Date' column to datetime for processing\n",
    "df_daily_production['Date'] = pd.to_datetime(df_daily_production['Date'])\n",
    "\n",
    "# Calculate the cumulative production until today\n",
    "current_date = datetime.now()\n",
    "cumulative_production = df_daily_production[df_daily_production['Date'] <= current_date].sum(numeric_only=True)\n",
    "\n",
    "# Extract the yearly targets from the logistics dataframe\n",
    "yearly_targets = df_factory_logistics.set_index('Factory')['Yearly Target (Tons)']\n",
    "\n",
    "# Remaining days in the year\n",
    "remaining_days = (datetime(current_date.year, 12, 31) - current_date).days\n",
    "\n",
    "# Predictions and required daily production increase\n",
    "predictions = {}\n",
    "for factory in ['A', 'B', 'C', 'D']:\n",
    "    produced_so_far = cumulative_production[f'Factory {factory} Daily Sugar (Tons)']\n",
    "    target = yearly_targets[factory]\n",
    "    will_meet_target = produced_so_far >= (target / 365) * (current_date.timetuple().tm_yday)\n",
    "    required_daily_increase = 0 if will_meet_target else (target - produced_so_far) / remaining_days\n",
    "    predictions[factory] = {\n",
    "        'Produced So Far (Tons)': produced_so_far,\n",
    "        'Yearly Target (Tons)': target,\n",
    "        'Will Meet Target': will_meet_target,\n",
    "        'Required Daily Increase (Tons)': required_daily_increase\n",
    "    }\n",
    "\n",
    "predictions\n",
    "    "
   ]
  }
 ],
 "metadata": {
  "kernelspec": {
   "display_name": "Python 3",
   "language": "python",
   "name": "python3"
  },
  "language_info": {
   "codemirror_mode": {
    "name": "ipython",
    "version": 3
   },
   "file_extension": ".py",
   "mimetype": "text/x-python",
   "name": "python",
   "nbconvert_exporter": "python",
   "pygments_lexer": "ipython3",
   "version": "3.11.7"
  }
 },
 "nbformat": 4,
 "nbformat_minor": 5
}
