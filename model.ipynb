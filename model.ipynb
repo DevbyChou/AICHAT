{
 "cells": [
  {
   "cell_type": "code",
   "execution_count": 17,
   "metadata": {},
   "outputs": [],
   "source": [
    "import pandas as pd\n",
    "import numpy as np\n",
    "from sklearn.model_selection import train_test_split\n",
    "from sklearn.metrics import mean_squared_error, accuracy_score\n",
    "from sklearn.ensemble import RandomForestRegressor, RandomForestClassifier\n",
    "from transformers import pipeline\n",
    "import requests\n",
    "import joblib\n"
   ]
  },
  {
   "cell_type": "code",
   "execution_count": 18,
   "metadata": {},
   "outputs": [],
   "source": [
    "df = pd.read_csv('./data/logistic regression dataset-Social_Network_Ads.csv')\n",
    "df_encoded = pd.get_dummies(df, columns=['Gender'])"
   ]
  },
  {
   "cell_type": "code",
   "execution_count": 19,
   "metadata": {},
   "outputs": [
    {
     "name": "stdout",
     "output_type": "stream",
     "text": [
      "Regression RMSE: 39625.02507723647\n",
      "Classification Accuracy: 0.9\n"
     ]
    }
   ],
   "source": [
    "from sklearn.ensemble import RandomForestRegressor, RandomForestClassifier\n",
    "\n",
    "# RandomForestRegressor for predicting EstimatedSalary\n",
    "X_reg = df_encoded[['Age', 'Gender_Female', 'Gender_Male']]\n",
    "y_reg = df_encoded['EstimatedSalary']\n",
    "X_train_reg, X_test_reg, y_train_reg, y_test_reg = train_test_split(X_reg, y_reg, test_size=0.2)\n",
    "reg_model = RandomForestRegressor()\n",
    "reg_model.fit(X_train_reg, y_train_reg)\n",
    "reg_predictions = reg_model.predict(X_test_reg)\n",
    "\n",
    "# RandomForestClassifier for predicting Purchased\n",
    "X_clf = df_encoded[['Age', 'EstimatedSalary', 'Gender_Female', 'Gender_Male']]\n",
    "y_clf = df_encoded['Purchased']\n",
    "X_train_clf, X_test_clf, y_train_clf, y_test_clf = train_test_split(X_clf, y_clf, test_size=0.2)\n",
    "clf_model = RandomForestClassifier()\n",
    "clf_model.fit(X_train_clf, y_train_clf)\n",
    "clf_predictions = clf_model.predict(X_test_clf)\n",
    "\n",
    "# For Regression Model\n",
    "reg_rmse = np.sqrt(mean_squared_error(y_test_reg, reg_predictions))\n",
    "print(\"Regression RMSE:\", reg_rmse)\n",
    "\n",
    "# For Classification Model\n",
    "clf_accuracy = accuracy_score(y_test_clf, clf_predictions)\n",
    "print(\"Classification Accuracy:\", clf_accuracy)\n"
   ]
  },
  {
   "cell_type": "code",
   "execution_count": 10,
   "metadata": {},
   "outputs": [
    {
     "name": "stderr",
     "output_type": "stream",
     "text": [
      "config.json: 100%|██████████| 665/665 [00:00<00:00, 647kB/s]\n",
      "C:\\Users\\weerakorn\\AppData\\Local\\Packages\\PythonSoftwareFoundation.Python.3.11_qbz5n2kfra8p0\\LocalCache\\local-packages\\Python311\\site-packages\\huggingface_hub\\file_download.py:147: UserWarning: `huggingface_hub` cache-system uses symlinks by default to efficiently store duplicated files but your machine does not support them in C:\\Users\\weerakorn\\.cache\\huggingface\\hub. Caching files will still work but in a degraded version that might require more space on your disk. This warning can be disabled by setting the `HF_HUB_DISABLE_SYMLINKS_WARNING` environment variable. For more details, see https://huggingface.co/docs/huggingface_hub/how-to-cache#limitations.\n",
      "To support symlinks on Windows, you either need to activate Developer Mode or to run Python as an administrator. In order to see activate developer mode, see this article: https://docs.microsoft.com/en-us/windows/apps/get-started/enable-your-device-for-development\n",
      "  warnings.warn(message)\n",
      "model.safetensors: 100%|██████████| 548M/548M [10:46<00:00, 848kB/s]  \n",
      "generation_config.json: 100%|██████████| 124/124 [00:00<?, ?B/s] \n",
      "vocab.json: 100%|██████████| 1.04M/1.04M [00:00<00:00, 1.27MB/s]\n",
      "merges.txt: 100%|██████████| 456k/456k [00:00<00:00, 539kB/s]\n",
      "tokenizer.json: 100%|██████████| 1.36M/1.36M [00:01<00:00, 717kB/s]\n",
      "Setting `pad_token_id` to `eos_token_id`:50256 for open-end generation.\n"
     ]
    },
    {
     "data": {
      "text/plain": [
       "[{'generated_text': \"Hello, I'm a language model, a language for thinking, a language for expressing thoughts.\"},\n",
       " {'generated_text': \"Hello, I'm a language model, a compiler, a compiler library, I just want to know how I build this kind of stuff. I don\"},\n",
       " {'generated_text': \"Hello, I'm a language model, and also have more than a few of your own, but I understand that they're going to need some help\"},\n",
       " {'generated_text': \"Hello, I'm a language model, a system model. I want to know my language so that it might be more interesting, more user-friendly\"},\n",
       " {'generated_text': 'Hello, I\\'m a language model, not a language model\"\\n\\nThe concept of \"no-tricks\" comes in handy later with new'}]"
      ]
     },
     "execution_count": 10,
     "metadata": {},
     "output_type": "execute_result"
    }
   ],
   "source": [
    "from transformers import pipeline, set_seed\n",
    "generator = pipeline('text-generation', model='gpt2')\n",
    "set_seed(42)\n",
    "generator(\"Hello, I'm a language model,\", max_length=30, num_return_sequences=5)\n",
    "\n",
    "[{'generated_text': \"Hello, I'm a language model, a language for thinking, a language for expressing thoughts.\"},\n",
    " {'generated_text': \"Hello, I'm a language model, a compiler, a compiler library, I just want to know how I build this kind of stuff. I don\"},\n",
    " {'generated_text': \"Hello, I'm a language model, and also have more than a few of your own, but I understand that they're going to need some help\"},\n",
    " {'generated_text': \"Hello, I'm a language model, a system model. I want to know my language so that it might be more interesting, more user-friendly\"},\n",
    " {'generated_text': 'Hello, I\\'m a language model, not a language model\"\\n\\nThe concept of \"no-tricks\" comes in handy later with new'}]"
   ]
  },
  {
   "cell_type": "code",
   "execution_count": 20,
   "metadata": {},
   "outputs": [
    {
     "data": {
      "text/plain": [
       "['combined_models.joblib']"
      ]
     },
     "execution_count": 20,
     "metadata": {},
     "output_type": "execute_result"
    }
   ],
   "source": [
    "# Create a dictionary with both models\n",
    "models = {\n",
    "    'regression_model': reg_model,\n",
    "    'classification_model': clf_model\n",
    "}\n",
    "\n",
    "# Save the dictionary containing both models\n",
    "joblib.dump(models, \"combined_models.joblib\")\n"
   ]
  }
 ],
 "metadata": {
  "kernelspec": {
   "display_name": "Python 3",
   "language": "python",
   "name": "python3"
  },
  "language_info": {
   "codemirror_mode": {
    "name": "ipython",
    "version": 3
   },
   "file_extension": ".py",
   "mimetype": "text/x-python",
   "name": "python",
   "nbconvert_exporter": "python",
   "pygments_lexer": "ipython3",
   "version": "3.11.7"
  }
 },
 "nbformat": 4,
 "nbformat_minor": 2
}
